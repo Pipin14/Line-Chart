{
 "cells": [
  {
   "cell_type": "code",
   "execution_count": 1,
   "metadata": {},
   "outputs": [],
   "source": [
    "import re\n",
    "from bokeh.plotting import figure, output_notebook, show\n",
    "from datetime import datetime\n",
    "\n",
    "with open('soal_chart_bokeh.txt', 'r') as file:\n",
    "    lines = file.readlines()\n",
    "\n",
    "timestamps = []\n",
    "bitrates = []\n",
    "\n",
    "def timestamp_to_datetime(timestamp):\n",
    "    return datetime.utcfromtimestamp(timestamp)\n",
    "\n",
    "for line in lines:\n",
    "    match = re.search(r\"\\[\\s*\\d+\\]\\s+([\\d\\.]+)-([\\d\\.]+)\\s+sec\\s+.*\\s+([\\d\\.]+)\\s*Mbits/sec\", line)\n",
    "    if match:\n",
    "        start_time = float(match.group(1))\n",
    "        bitrate = float(match.group(3))\n",
    "        \n",
    "        speed_mbps = bitrate\n",
    "        \n",
    "        timestamps.append(timestamp_to_datetime(start_time))\n",
    "        bitrates.append(speed_mbps)\n",
    "\n",
    "p = figure(title=\"TESTING JARINGAN\",\n",
    "           x_axis_label='DATE TIME',\n",
    "           y_axis_label='Speed (Mbps)',\n",
    "           height=400, width=800, \n",
    "           x_axis_type=\"datetime\")\n",
    "\n",
    "p.title.text_font_style = \"bold\"\n",
    "p.xaxis.axis_label_text_font_style = \"bold\"\n",
    "p.yaxis.axis_label_text_font_style = \"bold\"\n",
    "\n",
    "p.line(timestamps, bitrates, legend_label=\"Speed (Mbps)\", line_width=1, color='blue')\n",
    "\n",
    "show(p)\n"
   ]
  }
 ],
 "metadata": {
  "kernelspec": {
   "display_name": "Python 3",
   "language": "python",
   "name": "python3"
  },
  "language_info": {
   "codemirror_mode": {
    "name": "ipython",
    "version": 3
   },
   "file_extension": ".py",
   "mimetype": "text/x-python",
   "name": "python",
   "nbconvert_exporter": "python",
   "pygments_lexer": "ipython3",
   "version": "3.11.2"
  }
 },
 "nbformat": 4,
 "nbformat_minor": 2
}
